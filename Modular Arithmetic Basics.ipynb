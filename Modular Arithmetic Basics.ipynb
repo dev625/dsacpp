{
 "cells": [
  {
   "cell_type": "code",
   "execution_count": 2,
   "metadata": {},
   "outputs": [],
   "source": [
    "import math"
   ]
  },
  {
   "cell_type": "code",
   "execution_count": 3,
   "metadata": {},
   "outputs": [],
   "source": [
    "#The number of bits required to represent a number a in binary is determined to be\n",
    "#the largest n such that 2^n <= a : it is equal to n + 1"
   ]
  },
  {
   "cell_type": "code",
   "execution_count": 5,
   "metadata": {},
   "outputs": [
    {
     "name": "stdout",
     "output_type": "stream",
     "text": [
      "6\n"
     ]
    }
   ],
   "source": [
    "#Number of Bits Required to Represent a number A in binary\n",
    "\n",
    "A = 33\n",
    "N = math.floor(math.log2(A))+1\n",
    "print(N)"
   ]
  },
  {
   "cell_type": "code",
   "execution_count": 12,
   "metadata": {},
   "outputs": [
    {
     "name": "stdout",
     "output_type": "stream",
     "text": [
      "4\n",
      "300\n"
     ]
    }
   ],
   "source": [
    "#Euclid's Lemma : A number d divides a and b if and only if d divides a-b and b.\n",
    "\n",
    "#Euclid's Algorithm for Computing GCD\n",
    "def gcd(a,b):\n",
    "    if(b==0):\n",
    "        return a\n",
    "    return gcd(b,a%b)\n",
    "\n",
    "print(gcd(16,36))\n",
    "print(gcd(1200,1500))"
   ]
  },
  {
   "cell_type": "code",
   "execution_count": 11,
   "metadata": {},
   "outputs": [
    {
     "name": "stdout",
     "output_type": "stream",
     "text": [
      "(1, -5, 2)\n"
     ]
    }
   ],
   "source": [
    "def extended_gcd(a, b):\n",
    "  assert a >= 0 and b >= 0 and a + b > 0\n",
    "\n",
    "  if b == 0: #base condition\n",
    "    d, x, y = a, 1, 0\n",
    "  else:\n",
    "    (d, p, q) = extended_gcd(b, a % b)\n",
    "    x = q\n",
    "    y = p - (q * (a // b))\n",
    "  assert a % d == 0 and b % d == 0\n",
    "  assert d == a * x + b * y\n",
    "  return (d, x, y)\n",
    "print(extended_gcd(17,43))"
   ]
  },
  {
   "cell_type": "code",
   "execution_count": null,
   "metadata": {},
   "outputs": [],
   "source": []
  }
 ],
 "metadata": {
  "kernelspec": {
   "display_name": "Python 3.8.2 64-bit",
   "language": "python",
   "name": "python38264bit86303afb3c8e4f59a00ee79d6eb0bb26"
  },
  "language_info": {
   "codemirror_mode": {
    "name": "ipython",
    "version": 3
   },
   "file_extension": ".py",
   "mimetype": "text/x-python",
   "name": "python",
   "nbconvert_exporter": "python",
   "pygments_lexer": "ipython3",
   "version": "3.8.2"
  }
 },
 "nbformat": 4,
 "nbformat_minor": 4
}
